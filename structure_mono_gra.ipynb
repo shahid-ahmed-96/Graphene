{
 "cells": [
  {
   "cell_type": "code",
   "execution_count": 1,
   "id": "d146255f",
   "metadata": {},
   "outputs": [],
   "source": [
    "import os\n",
    "import numpy as np\n",
    "import ase\n",
    "import ase.io\n",
    "import ase.build\n",
    "import ase.visualize\n",
    "import math\n",
    "from ase import Atoms"
   ]
  },
  {
   "cell_type": "code",
   "execution_count": 2,
   "id": "a5cef579",
   "metadata": {},
   "outputs": [],
   "source": [
    "a=1.42\n",
    "a1=(2*a*math.cos(math.pi/6))\n",
    "a2=3*a"
   ]
  },
  {
   "cell_type": "code",
   "execution_count": 3,
   "id": "0f467499",
   "metadata": {},
   "outputs": [],
   "source": [
    "atoms=Atoms(\n",
    "    symbols='C4',\n",
    "    positions=[(0,0,0),(a1/2,a2/6,0),(a1/2,a2/2,0),(0,2*a2/3,0)],\n",
    "    cell=[(a1,0,0),(0,a2,0),(0,0,10)],\n",
    "    pbc=[1,0,0]\n",
    "    )"
   ]
  },
  {
   "cell_type": "code",
   "execution_count": 4,
   "id": "af102c44",
   "metadata": {},
   "outputs": [],
   "source": [
    "x= [250,500,1000,2000,4000,6000,8000]\n",
    "y= 10\n",
    "Sup_cell=[]\n",
    "for i in x:\n",
    "    supcell=atoms*[i,y,1]\n",
    "    ase.io.write('graphene.%d.%d.lammps-data'%(i,y),supcell, format='lammps-data')\n",
    "    Sup_cell.append(supcell)"
   ]
  }
 ],
 "metadata": {
  "kernelspec": {
   "display_name": "Python 3 (ipykernel)",
   "language": "python",
   "name": "python3"
  },
  "language_info": {
   "codemirror_mode": {
    "name": "ipython",
    "version": 3
   },
   "file_extension": ".py",
   "mimetype": "text/x-python",
   "name": "python",
   "nbconvert_exporter": "python",
   "pygments_lexer": "ipython3",
   "version": "3.9.12"
  }
 },
 "nbformat": 4,
 "nbformat_minor": 5
}
